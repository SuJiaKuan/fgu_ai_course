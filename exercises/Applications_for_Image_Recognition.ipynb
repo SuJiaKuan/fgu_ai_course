{
  "nbformat": 4,
  "nbformat_minor": 0,
  "metadata": {
    "colab": {
      "name": "Applications for Image Recognition.ipynb",
      "provenance": [],
      "collapsed_sections": []
    },
    "kernelspec": {
      "name": "python3",
      "display_name": "Python 3"
    },
    "accelerator": "GPU"
  },
  "cells": [
    {
      "cell_type": "markdown",
      "metadata": {
        "id": "vv49axWeylsB"
      },
      "source": [
        "This notebook is freely available for redistribution under the [GPL-3.0 license](https://choosealicense.com/licenses/gpl-3.0/).\n",
        "\n",
        "Author: 蘇嘉冠"
      ]
    },
    {
      "cell_type": "markdown",
      "metadata": {
        "id": "Na0_QjevL_F5"
      },
      "source": [
        "# 影像辨識應用\n",
        "\n",
        "請記得先複製一份在你自己的 Google 帳號底下：\n",
        "`檔案` -> `在雲端硬碟中儲存副本`\n",
        "\n",
        "也請記得改變 colab 設定：\n",
        "1. `工具` -> `設定` -> `編輯器` -> 將 `縮排寬度` 改為 `4`\n",
        "2. `編輯` -> `筆記本設定` -> 將 `硬體加速器` 改為 `GPU`\n",
        "\n",
        "\n"
      ]
    },
    {
      "cell_type": "markdown",
      "metadata": {
        "id": "rxVfmTuzLmyp"
      },
      "source": [
        "## 練習題（一）：有貓就給讚\n",
        "\n",
        "這世界上有許多人是貓奴，看到貓貓就會給讚。今天我們將從 Reddit 的 [AnimalMemes](https://www.reddit.com/r/AnimalMemes/) 下載梗圖，並且用已經訓練好的 image classification 模型，來找出下載的梗圖中哪些有貓貓。\n",
        "\n",
        "![](https://i.imgur.com/f4fdLGo.png)\n",
        "\n",
        "（[圖片來源](https://www.dcard.tw/f/nuu/p/234815577)）"
      ]
    },
    {
      "cell_type": "code",
      "metadata": {
        "id": "c6tUTprCWdhH"
      },
      "source": [
        "!pip install matplotlib RedditReader Pillow torch torchvision wget"
      ],
      "execution_count": null,
      "outputs": []
    },
    {
      "cell_type": "code",
      "metadata": {
        "id": "9QJNDLoJWj6L"
      },
      "source": [
        "import numpy as np\n",
        "import matplotlib.pyplot as plt\n",
        "import torch\n",
        "import wget\n",
        "from PIL import Image\n",
        "from RedditReader import Subreddit"
      ],
      "execution_count": null,
      "outputs": []
    },
    {
      "cell_type": "markdown",
      "metadata": {
        "id": "1BP8KlHlYnC8"
      },
      "source": [
        "### Step 1. 隨機取得 Reddit Meme 的圖片"
      ]
    },
    {
      "cell_type": "markdown",
      "metadata": {
        "id": "0bmvH4ORkHeT"
      },
      "source": [
        "首先，我們定義一個 function `get_rand_meme()`，這個 function 會隨機的抓取一個 Reddit 上的一個梗圖，並且把梗圖下載到 Colab server 的硬碟裡。"
      ]
    },
    {
      "cell_type": "code",
      "metadata": {
        "id": "bL5R-hcs4Mjt"
      },
      "source": [
        "def get_rand_meme():\n",
        "    # Download a random meme from Reddit AnimalMemes.\n",
        "    meme = Subreddit(\"AnimalMemes\")\n",
        "    meme.get_random()\n",
        "\n",
        "    # Each meme contains an image URL.\n",
        "    print(meme.url)\n",
        "\n",
        "    # Download the image to the disk.\n",
        "    image_filename = wget.download(meme.url)\n",
        "\n",
        "    # Return the downloaded image file name.\n",
        "    return image_filename"
      ],
      "execution_count": null,
      "outputs": []
    },
    {
      "cell_type": "markdown",
      "metadata": {
        "id": "uf5iXlHQklJd"
      },
      "source": [
        "我們可以隨機下載一張，並且顯示出來看看。"
      ]
    },
    {
      "cell_type": "code",
      "metadata": {
        "id": "IGdllDz28DuY"
      },
      "source": [
        "image_filename =  get_rand_meme()\n",
        "print(image_filename)\n",
        "\n",
        "image = Image.open(image_filename).convert(\"RGB\")\n",
        "plt.imshow(image)"
      ],
      "execution_count": null,
      "outputs": []
    },
    {
      "cell_type": "markdown",
      "metadata": {
        "id": "aQmWnoAfWaVi"
      },
      "source": [
        "### Step 2. Image Classification"
      ]
    },
    {
      "cell_type": "markdown",
      "metadata": {
        "id": "cJERItPkk5jt"
      },
      "source": [
        "接下來我們要準備 Image Classification 的模型。不過在開始之前，我們先下載一張貓貓的圖片，方便我們接下的測試。"
      ]
    },
    {
      "cell_type": "code",
      "metadata": {
        "id": "OLyU7LveHjZo"
      },
      "source": [
        "!wget https://raw.githubusercontent.com/SuJiaKuan/fgu_ai_course/main/datasets/cat_lover/cat.jpg -O cat.jpg"
      ],
      "execution_count": null,
      "outputs": []
    },
    {
      "cell_type": "code",
      "metadata": {
        "id": "qy43NezelPY3"
      },
      "source": [
        "image = Image.open(\"cat.jpg\").convert(\"RGB\")\n",
        "plt.imshow(image)"
      ],
      "execution_count": null,
      "outputs": []
    },
    {
      "cell_type": "markdown",
      "metadata": {
        "id": "vP0GHuFLnswM"
      },
      "source": [
        "我們要用的模型，是在 ImageNet 資料集下所訓練的，總共有 1,000 個 label。由於我們要知道這 1,000 label 對應的英文名稱是什麼，因此我們將對應名稱的檔案下載下來，並且讀進程式以利接下來使用。"
      ]
    },
    {
      "cell_type": "code",
      "metadata": {
        "id": "un94DxXLRhl9"
      },
      "source": [
        "!wget https://raw.githubusercontent.com/SuJiaKuan/fgu_ai_course/main/datasets/cat_lover/imagenet_labels.json -O imagenet_labels.json"
      ],
      "execution_count": null,
      "outputs": []
    },
    {
      "cell_type": "code",
      "metadata": {
        "id": "U6wwD5hWLNb2"
      },
      "source": [
        "import json\n",
        "\n",
        "labels = json.load(open(\"imagenet_labels.json\"))\n",
        "print(labels)"
      ],
      "execution_count": null,
      "outputs": []
    },
    {
      "cell_type": "markdown",
      "metadata": {
        "id": "FvMPW3bPpkFu"
      },
      "source": [
        "接下來讀入我們的模型。這裡直接使用 `torchvision` 所提供的由 ImageNet 訓練好的 ResNet-18 模型。"
      ]
    },
    {
      "cell_type": "code",
      "metadata": {
        "id": "rJIoVLK5B3cU"
      },
      "source": [
        "from torchvision import models\n",
        "\n",
        "# Get the pre-trained ResNet-18 model.\n",
        "model = models.resnet18(pretrained=True)\n",
        "# Move model from CPU to GPU.\n",
        "model = model.cuda()\n",
        "\n",
        "# Turn on evaluation mode (no training, inference only).\n",
        "model.eval()\n",
        "\n",
        "print(model)"
      ],
      "execution_count": null,
      "outputs": []
    },
    {
      "cell_type": "markdown",
      "metadata": {
        "id": "KVESTRsTp4vR"
      },
      "source": [
        "由於模型的輸入必須要固定大小，因此定義了一個轉換的方法：將輸入的圖片轉成固定的大小後，再轉成 PyTorch 的資料格式（`Tensor`），並且根據 ImageNet 的 mean 與 standard deviation 做正規化。"
      ]
    },
    {
      "cell_type": "code",
      "metadata": {
        "id": "vC8cThwaFefK"
      },
      "source": [
        "from torchvision import transforms\n",
        "\n",
        "transform = transforms.Compose([\n",
        "    transforms.Resize((224, 224)),\n",
        "    transforms.ToTensor(),\n",
        "    transforms.Normalize(\n",
        "        mean=[0.485, 0.456, 0.406],\n",
        "         std=[0.229, 0.224, 0.225],\n",
        "    ),\n",
        "])"
      ],
      "execution_count": null,
      "outputs": []
    },
    {
      "cell_type": "markdown",
      "metadata": {
        "id": "KDwOcA71rSkV"
      },
      "source": [
        "這裡定義 function `run_classification()` 來實際做 inference。在將圖片餵給模型之前，除了要做上面提到的轉換，還要將格式從 `CHW` 轉成 `NCHW` 才會對。"
      ]
    },
    {
      "cell_type": "code",
      "metadata": {
        "id": "EWf1m207CL5S"
      },
      "source": [
        "def run_classification(model, transform, labels, image):\n",
        "    # Apply transformation for the given image.\n",
        "    input_image = transform(image)\n",
        "    print(input_image.shape)\n",
        "    # Convert format from CHW to NCHW.\n",
        "    input_images = torch.unsqueeze(input_image, 0)\n",
        "    print(input_images.shape)\n",
        "    # Move image data from CPU to GPU.\n",
        "    input_images = input_images.cuda()\n",
        "\n",
        "    # Do the inference.\n",
        "    model_out = model(input_images)\n",
        "    print(model_out.shape)\n",
        "\n",
        "    # Get the label index that has largest probability.\n",
        "    label_index = torch.argmax(model_out, 1)[0].item()\n",
        "    # Get the label.\n",
        "    label = labels[label_index]\n",
        "\n",
        "    return label"
      ],
      "execution_count": null,
      "outputs": []
    },
    {
      "cell_type": "markdown",
      "metadata": {
        "id": "Z3dNCGdkrs7D"
      },
      "source": [
        "再來是定義 function `is_cat()` 來根據模型輸出的 label 來判斷是否為貓。由於 ImageNet 的 label 並沒有直接定義是貓的 label，而是各種貓的種類。因此需要多一步來判斷是否為貓。"
      ]
    },
    {
      "cell_type": "code",
      "metadata": {
        "id": "yzEFgv3DW3CP"
      },
      "source": [
        "def is_cat(label):\n",
        "    return label in [\n",
        "        \"Egyptian_cat\",\n",
        "        \"Persian_cat\",\n",
        "        \"tiger_cat\",\n",
        "        \"Siamese_cat\",\n",
        "        \"tabby\",\n",
        "    ]"
      ],
      "execution_count": null,
      "outputs": []
    },
    {
      "cell_type": "markdown",
      "metadata": {
        "id": "dRfVVcg1sEhY"
      },
      "source": [
        "完成以上，就可以真的跑模型看看結果囉。"
      ]
    },
    {
      "cell_type": "code",
      "metadata": {
        "id": "mJChkGgvW5zk"
      },
      "source": [
        "label = run_classification(model, transform, labels, image)\n",
        "print(label, is_cat(label))"
      ],
      "execution_count": null,
      "outputs": []
    },
    {
      "cell_type": "markdown",
      "metadata": {
        "id": "3snIvnvi6GYs"
      },
      "source": [
        "除此之外，我們也可以上傳自己的圖片到 Colab server，並且做同樣的辨識。（記得將`FILENAME` 改成你的圖片檔名）"
      ]
    },
    {
      "cell_type": "code",
      "metadata": {
        "id": "f-7pLVFG5725"
      },
      "source": [
        "from google.colab import files\n",
        "\n",
        "files.upload()"
      ],
      "execution_count": null,
      "outputs": []
    },
    {
      "cell_type": "code",
      "metadata": {
        "id": "waWYpARW56V4"
      },
      "source": [
        "image = Image.open(\"FILENAME\").convert(\"RGB\")\n",
        "\n",
        "label = run_classification(model, transform, labels, image)\n",
        "print(label, is_cat(label))\n",
        "\n",
        "plt.imshow(image)"
      ],
      "execution_count": null,
      "outputs": []
    },
    {
      "cell_type": "markdown",
      "metadata": {
        "id": "-fTGG__DWiTF"
      },
      "source": [
        "### Step 3. 兩個功能放一起！"
      ]
    },
    {
      "cell_type": "markdown",
      "metadata": {
        "id": "t0bh6ADusOQp"
      },
      "source": [
        "現在我們終於可以試著將上述的兩個功能結合在一起。我們從 Reddit 上下載很多梗圖，並且給模型判斷梗圖的 label，再根據這個 label 來判斷是否為貓。"
      ]
    },
    {
      "cell_type": "code",
      "metadata": {
        "id": "G1AVTybqWuRT"
      },
      "source": [
        "num_repeats = 50\n",
        "\n",
        "cat_labels = []\n",
        "cat_images = []\n",
        "for _ in range(num_repeats):\n",
        "    image_filename =  get_rand_meme()\n",
        "\n",
        "    image = Image.open(image_filename).convert(\"RGB\")\n",
        "    label = run_classification(model, transform, labels, image)\n",
        "\n",
        "    if is_cat(label):\n",
        "        cat_labels.append(label)\n",
        "        cat_images.append(image)"
      ],
      "execution_count": null,
      "outputs": []
    },
    {
      "cell_type": "markdown",
      "metadata": {
        "id": "DgVY7H7kspA0"
      },
      "source": [
        "最後，我們把所有抓到的貓貓梗圖秀出來吧！"
      ]
    },
    {
      "cell_type": "code",
      "metadata": {
        "id": "Nz5ubejOaGI-"
      },
      "source": [
        "fig = plt.figure(figsize=(30, 30))\n",
        "for idx in range(len(cat_labels)):\n",
        "    ax = fig.add_subplot(\n",
        "        int(len(cat_labels) / 4) + 1,\n",
        "        4,\n",
        "        idx + 1,\n",
        "        xticks=[],\n",
        "        yticks=[],\n",
        "    )\n",
        "    ax.imshow(cat_images[idx])\n",
        "    ax.set_title(cat_labels[idx], size=30)\n",
        "\n",
        "    fig.show()"
      ],
      "execution_count": null,
      "outputs": []
    },
    {
      "cell_type": "markdown",
      "metadata": {
        "id": "k0n4sWUbbgKO"
      },
      "source": [
        "### 練習時間\n",
        "\n",
        "1. 將模型從 ResNet-18 改成 [ResNet-152](https://pytorch.org/vision/stable/models.html#torchvision.models.resnet152)，並且試試結果如何\n",
        "2. 改成 ResNe-152 之後，我們也想想辦法照顧狗奴。請完成以下 function `is_dog()`，並且把上面呼叫 `is_cat()` 的地方改成 `is_dog()`，再跑一次看看結果。\n",
        "\n",
        "狗狗的 label：\n",
        "- `dalmatian`\n",
        "- `Mexican_hairless`\n",
        "- `Newfoundland`\n",
        "- `basenji`\n",
        "- `Leonberg`\n",
        "- `pug`\n",
        "- `Great_Pyrenees`\n",
        "- `Maltese_dog`\n",
        "- `Old_English_sheepdog`\n",
        "- `Shetland_sheepdog`\n",
        "- `Greater_Swiss_Mountain_dog`\n",
        "- `Bernese_mountain_dog`\n",
        "- `French_bulldog`\n",
        "- `Eskimo_dog`\n",
        "- `African_hunting_dog`\n"
      ]
    },
    {
      "cell_type": "code",
      "metadata": {
        "id": "8iEJsPEe7_ar"
      },
      "source": [
        "def is_dog(label):\n",
        "    return False"
      ],
      "execution_count": null,
      "outputs": []
    },
    {
      "cell_type": "markdown",
      "metadata": {
        "id": "vD2s9a8091UR"
      },
      "source": [
        "## 練習題（二）：貓的追擊者\n",
        "\n",
        "網路上每天會有許多影片產生，但對於喜歡貓的人而言，他們只要看貓貓就夠了。在這個練習中，我們想要透過 Object Detection 的影像辨識模型，來將有貓貓的影片片段抓取出來。\n",
        "\n",
        "這次練習的原始影片請看[這個連結](https://pixabay.com/videos/fog-village-dog-cat-gate-41340/)。\n",
        "\n",
        "![](https://i.imgur.com/NOZOxjH.png)\n",
        "\n",
        "（[圖片來源](https://goto50.ai/real-time-object-detection-using-tensorflow/)）"
      ]
    },
    {
      "cell_type": "code",
      "metadata": {
        "id": "f3HPqpDFzVHJ"
      },
      "source": [
        "!pip install numpy matplotlib opencv-python Pillow torch torchvision"
      ],
      "execution_count": null,
      "outputs": []
    },
    {
      "cell_type": "code",
      "metadata": {
        "id": "LU6YK1kYGAnB"
      },
      "source": [
        "import cv2\n",
        "import numpy as np\n",
        "import torch\n",
        "import matplotlib.pyplot as plt\n",
        "from PIL import Image"
      ],
      "execution_count": null,
      "outputs": []
    },
    {
      "cell_type": "markdown",
      "metadata": {
        "id": "CvekxQk4MLiG"
      },
      "source": [
        "### Step 1. 單張影像的 Object Detection"
      ]
    },
    {
      "cell_type": "markdown",
      "metadata": {
        "id": "lBRg0_6_MYcc"
      },
      "source": [
        "我們先將測試用的圖片下載到 Colab server 的硬碟並且讀取。"
      ]
    },
    {
      "cell_type": "code",
      "metadata": {
        "id": "_U5W-f28HPpt"
      },
      "source": [
        "!wget https://raw.githubusercontent.com/SuJiaKuan/fgu_ai_course/main/datasets/cat_lover/cat.jpg -O cat.jpg"
      ],
      "execution_count": null,
      "outputs": []
    },
    {
      "cell_type": "code",
      "metadata": {
        "id": "Yb_1s9PlHn5P"
      },
      "source": [
        "image = Image.open(\"cat.jpg\").convert(\"RGB\")\n",
        "\n",
        "plt.imshow(image)"
      ],
      "execution_count": null,
      "outputs": []
    },
    {
      "cell_type": "markdown",
      "metadata": {
        "id": "1PuUS_CNO8OS"
      },
      "source": [
        "在開始準備模型之前，我們先將模型的 label 定義好。我們用的 Object Detection 模型是用 [COCO](https://cocodataset.org/) 資料集訓練好的，總共有 80 個 label。"
      ]
    },
    {
      "cell_type": "code",
      "metadata": {
        "id": "UA8dYn87I7-x"
      },
      "source": [
        "labels = [\n",
        "    \"__background__\", \"person\", \"bicycle\", \"car\", \"motorcycle\", \"airplane\",\n",
        "    \"bus\", \"train\", \"truck\", \"boat\", \"traffic light\", \"fire hydrant\", \"N/A\",\n",
        "    \"stop sign\", \"parking meter\", \"bench\", \"bird\", \"cat\", \"dog\", \"horse\",\n",
        "    \"sheep\", \"cow\", \"elephant\", \"bear\", \"zebra\", \"giraffe\", \"N/A\", \"backpack\",\n",
        "    \"umbrella\", \"N/A\", \"N/A\", \"handbag\", \"tie\", \"suitcase\", \"frisbee\", \"skis\",\n",
        "    \"snowboard\", \"sports ball\", \"kite\", \"baseball bat\", \"baseball glove\",\n",
        "    \"skateboard\", \"surfboard\", \"tennis racket\", \"bottle\", \"N/A\", \"wine glass\",\n",
        "    \"cup\", \"fork\", \"knife\", \"spoon\", \"bowl\", \"banana\", \"apple\", \"sandwich\",\n",
        "    \"orange\", \"broccoli\", \"carrot\", \"hot dog\", \"pizza\", \"donut\", \"cake\",\n",
        "    \"chair\", \"couch\", \"potted plant\", \"bed\", \"N/A\", \"dining table\", \"N/A\",\n",
        "    \"N/A\", \"toilet\", \"N/A\", \"tv\", \"laptop\", \"mouse\", \"remote\", \"keyboard\",\n",
        "    \"cell phone\", \"microwave\", \"oven\", \"toaster\", \"sink\", \"refrigerator\",\n",
        "    \"N/A\", \"book\", \"clock\", \"vase\", \"scissors\", \"teddy bear\", \"hair drier\",\n",
        "    \"toothbrush\",\n",
        "]"
      ],
      "execution_count": null,
      "outputs": []
    },
    {
      "cell_type": "markdown",
      "metadata": {
        "id": "xXsR_0ahP5gV"
      },
      "source": [
        "這裡我們一樣用 torchvision來建立模型。用的模型架構是 [Faster R-CNN](https://pytorch.org/vision/stable/models.html#object-detection-instance-segmentation-and-person-keypoint-detection)，是一個受歡迎的 Object Detection 模型，不過有個缺點是速度相對比較慢。"
      ]
    },
    {
      "cell_type": "code",
      "metadata": {
        "id": "r78hm90ZF931"
      },
      "source": [
        "from torchvision import models\n",
        "\n",
        "# Load a Fast R-CNN model pre-trained on COCO.\n",
        "model = models.detection.fasterrcnn_resnet50_fpn(pretrained=True)\n",
        "\n",
        "# Move model from CPU to GPU.\n",
        "model = model.cuda()\n",
        "\n",
        "# Turn on evaluation mode (no training, inference only).\n",
        "model.eval()"
      ],
      "execution_count": null,
      "outputs": []
    },
    {
      "cell_type": "markdown",
      "metadata": {
        "id": "pa3RoH0uRTix"
      },
      "source": [
        "關於輸入的轉換，由於這裡的模型輸入不限定影像大小，因此轉換相對簡單。"
      ]
    },
    {
      "cell_type": "code",
      "metadata": {
        "id": "5IxsN70VK_bn"
      },
      "source": [
        "from torchvision import transforms\n",
        "\n",
        "transform = transforms.ToTensor()"
      ],
      "execution_count": null,
      "outputs": []
    },
    {
      "cell_type": "markdown",
      "metadata": {
        "id": "Y5Bi8buKRz2u"
      },
      "source": [
        "接下來定義 function `detect_cat()`，功能是偵測一張圖片中所有貓的 boudning box。流程是將圖片餵給模型，得到 Object Detection 的輸出。由於模型輸出不只有貓的 label，所以必須把貓的 label 篩選出來，並且只留夠夠有信心的結果下來（`score` 大於 `threshold`）。\n",
        "\n",
        "對於一張圖片來說，Object Detection 模型的輸出為一個 `dict` 物件，包含：\n",
        "- `labels`：這張圖片中所有偵測到物件的 label index（所以我們還要轉成實際的 label）\n",
        "- `boxes`：這張圖片中所有偵測到物件的 boudning box\n",
        "- `scores`：這張圖片中所有偵測到物件的信心值\n",
        "\n",
        "![](https://i.imgur.com/4Bp9XQk.png)"
      ]
    },
    {
      "cell_type": "code",
      "metadata": {
        "id": "sjX5Z5NwHZPU"
      },
      "source": [
        "def detect_cat(model, transform, image, threshold=0.5):\n",
        "    # Apply transformation for the given image.\n",
        "    input_image = transform(image)\n",
        "    # Convert format from CHW to NCHW.\n",
        "    input_images = torch.unsqueeze(input_image, 0)\n",
        "    # Move image data from CPU to GPU.\n",
        "    input_images = input_images.cuda()\n",
        "\n",
        "    # Do the inference.\n",
        "    model_out = model(input_images)\n",
        "    print(model_out)\n",
        "\n",
        "    # Get label indexes, bounding boxes and scores from the detection result.\n",
        "    label_indexes = model_out[0][\"labels\"]\n",
        "    boxes = model_out[0][\"boxes\"]\n",
        "    scores = model_out[0][\"scores\"]\n",
        "\n",
        "    # Filter out the bounding boxes whose labels are \"cat\" and scores are higher\n",
        "    # than a threshold.\n",
        "    cat_boxes = []\n",
        "    for label_index, box, score in zip(label_indexes, boxes, scores):\n",
        "        label = labels[label_index]\n",
        "\n",
        "        if label == \"cat\" and score >= threshold:\n",
        "            cat_boxes.append(box)\n",
        "\n",
        "    return cat_boxes"
      ],
      "execution_count": null,
      "outputs": []
    },
    {
      "cell_type": "markdown",
      "metadata": {
        "id": "gh0Jlu1Nbxy9"
      },
      "source": [
        "只要呼叫 `detect_cat()`，就能輕鬆的得到結果了。"
      ]
    },
    {
      "cell_type": "code",
      "metadata": {
        "id": "B2hgwu78OlFD"
      },
      "source": [
        "cat_boxes = detect_cat(model, transform, image)\n",
        "\n",
        "print(cat_boxes)"
      ],
      "execution_count": null,
      "outputs": []
    },
    {
      "cell_type": "markdown",
      "metadata": {
        "id": "xEsqLFXWcIHQ"
      },
      "source": [
        "得到結果後，我們再把結果畫在原本的圖上！"
      ]
    },
    {
      "cell_type": "code",
      "metadata": {
        "id": "KtMNeA_xJEOl"
      },
      "source": [
        "from PIL import ImageDraw\n",
        "\n",
        "def draw_boxes(image, boxes):\n",
        "    image_drawn = image.copy()\n",
        "\n",
        "    draw = ImageDraw.Draw(image_drawn)\n",
        "    for box in boxes:\n",
        "        min_x = int(box[0])\n",
        "        min_y = int(box[1])\n",
        "        max_x = int(box[2])\n",
        "        max_y = int(box[3])\n",
        "\n",
        "        draw.rectangle(\n",
        "            [(min_x, min_y), (max_x, max_y)],\n",
        "            outline =\"red\",\n",
        "            width=10,\n",
        "        )\n",
        "\n",
        "    return image_drawn"
      ],
      "execution_count": null,
      "outputs": []
    },
    {
      "cell_type": "code",
      "metadata": {
        "id": "12a3dAqIyrzS"
      },
      "source": [
        "image_drawn = draw_boxes(image, cat_boxes)\n",
        "plt.imshow(image_drawn)"
      ],
      "execution_count": null,
      "outputs": []
    },
    {
      "cell_type": "markdown",
      "metadata": {
        "id": "HmR8raT-iZUI"
      },
      "source": [
        "也可以上傳你自己的圖片跑跑看！"
      ]
    },
    {
      "cell_type": "code",
      "metadata": {
        "id": "49awmAp4iYs7"
      },
      "source": [
        "from google.colab import files\n",
        "\n",
        "files.upload()"
      ],
      "execution_count": null,
      "outputs": []
    },
    {
      "cell_type": "markdown",
      "metadata": {
        "id": "2nxapIGi_mEt"
      },
      "source": [
        "### Step 2. 影片的 Object Detection"
      ]
    },
    {
      "cell_type": "markdown",
      "metadata": {
        "id": "ZFa0mUGzc6ZM"
      },
      "source": [
        "在第二階段，我們將示範如何對影片做 Object Detection。首先下載我們的原始影片。"
      ]
    },
    {
      "cell_type": "code",
      "metadata": {
        "id": "unviTLxx_pNp"
      },
      "source": [
        "!wget https://github.com/SuJiaKuan/fgu_ai_course/raw/main/datasets/cat_lover/cat_dog.mp4"
      ],
      "execution_count": null,
      "outputs": []
    },
    {
      "cell_type": "markdown",
      "metadata": {
        "id": "Z4NuEoxydEBN"
      },
      "source": [
        "一部影片可以想成是連續好幾張影像組成的，因此我們的思路是將影片轉換成一張一張的影像。這裡用來實現的是 OpenCV 的 [VideoCapture](https://docs.opencv.org/master/dd/d43/tutorial_py_video_display.html)，要注意的是由於我們 `detect_cat()` 的影像是 Pillow 的格式，而且影像的顏色順序是 R, G, B，而 OpenCV 讀出來的影像是 `numpy.ndarray`，而且顏色順序是 B, G, R，因此必須要做轉換，才能方便後面的辨識。"
      ]
    },
    {
      "cell_type": "code",
      "metadata": {
        "id": "TRjCSIpP_ceS"
      },
      "source": [
        "# Create an object to capture frames from a video.\n",
        "video = cv2.VideoCapture(\"cat_dog.mp4\")\n",
        "\n",
        "images = []\n",
        "while True:\n",
        "    # Capture a frame from the video.\n",
        "    success, image = video.read()\n",
        "\n",
        "    # In most case, \"success\" is True. It becomes False when all frames are\n",
        "    # captured (or when some errors occur), so we need to break the while loop\n",
        "    # in such cases.\n",
        "    if not success:\n",
        "        break\n",
        "\n",
        "    # Convert image from OpenCV format (numpy) into Pillow format.\n",
        "    image = cv2.cvtColor(image, cv2.COLOR_BGR2RGB)\n",
        "    image = Image.fromarray(image)\n",
        "\n",
        "    images.append(image)\n",
        "\n",
        "# Tell the object that the capturing process is finished.\n",
        "video.release()\n",
        "\n",
        "print(len(images))\n",
        "print(images[0].size)"
      ],
      "execution_count": null,
      "outputs": []
    },
    {
      "cell_type": "markdown",
      "metadata": {
        "id": "wEHld_m6feCa"
      },
      "source": [
        "接下來我們將每張擷取出來的影像餵給 Object Detection 模型來辨識，並且將結果的 boudning box 畫出來。"
      ]
    },
    {
      "cell_type": "code",
      "metadata": {
        "id": "Km0cJMDYAmrH"
      },
      "source": [
        "output_images = []\n",
        "for image in images:\n",
        "    cat_boxes = detect_cat(model, transform, image)\n",
        "    image_drawn = draw_boxes(image, cat_boxes)\n",
        "\n",
        "    output_images.append(image_drawn)"
      ],
      "execution_count": null,
      "outputs": []
    },
    {
      "cell_type": "markdown",
      "metadata": {
        "id": "QNVh-hQmf24C"
      },
      "source": [
        "最後，我們將畫 boudning box 的所有影像輸出成一部影片檔案。這裡用到的是 OpenCV 的 VideoWriter，同樣要注意的是要將 Pillow 影像的格式轉成 OpenCV 的格式，結果才會對。\n",
        "\n",
        "關於 VideoWriter 的描述如下：\n",
        "- `fourcc`：輸出影片檔案的編碼（codec）代號\n",
        "- `fps`：輸出影片檔案的 frame per second，也就是影片的一秒包含幾張影像\n",
        "- `video_size`：輸出影片檔案的大小"
      ]
    },
    {
      "cell_type": "code",
      "metadata": {
        "id": "Mxh_D-LmEdGa"
      },
      "source": [
        "# Create an object to convert images into a video file.\n",
        "fourcc = cv2.VideoWriter_fourcc(*\"XVID\")\n",
        "fps = 20\n",
        "video_size = output_images[0].size\n",
        "out_video = cv2.VideoWriter(\"output.avi\", fourcc, fps, video_size)\n",
        "\n",
        "for output_image in output_images:\n",
        "    # Convert image from Pillow format into OpenCV format (numpy).\n",
        "    image = np.array(output_image)\n",
        "    image = cv2.cvtColor(image, cv2.COLOR_RGB2BGR)\n",
        "\n",
        "    out_video.write(image)\n",
        "\n",
        "# Tell the object that the converting process is finished.\n",
        "out_video.release()"
      ],
      "execution_count": null,
      "outputs": []
    },
    {
      "cell_type": "markdown",
      "metadata": {
        "id": "Vu6X-9IUiBjb"
      },
      "source": [
        "下載影片到你的電腦看看！"
      ]
    },
    {
      "cell_type": "code",
      "metadata": {
        "id": "z1oUcQMTEgPq"
      },
      "source": [
        "from google.colab import files\n",
        "\n",
        "files.download(\"output.avi\") "
      ],
      "execution_count": null,
      "outputs": []
    },
    {
      "cell_type": "markdown",
      "metadata": {
        "id": "Fgg6dOfqid1i"
      },
      "source": [
        "也可以上傳你自己的影片跑跑看！"
      ]
    },
    {
      "cell_type": "code",
      "metadata": {
        "id": "9KTC0wJTid1i"
      },
      "source": [
        "from google.colab import files\n",
        "\n",
        "files.upload()"
      ],
      "execution_count": null,
      "outputs": []
    },
    {
      "cell_type": "markdown",
      "metadata": {
        "id": "VkLMEA13GCQd"
      },
      "source": [
        "### 練習時間\n",
        "\n",
        "1. 請將偵測貓貓的功能，改成偵測狗狗，並且再跑一次影片看結果\n",
        "2. 狗狗精華：讓影片只留下有偵測到狗狗的片段，其他的片段都不要，結果類似這個[影片](https://github.com/SuJiaKuan/fgu_ai_course/raw/main/datasets/cat_lover/dog_only.avi)"
      ]
    }
  ]
}