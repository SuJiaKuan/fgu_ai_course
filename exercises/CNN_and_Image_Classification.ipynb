{
  "nbformat": 4,
  "nbformat_minor": 0,
  "metadata": {
    "colab": {
      "name": "CNN and Image Classification.ipynb",
      "provenance": [],
      "collapsed_sections": [
        "Q0U9ayyMm_Xp"
      ]
    },
    "kernelspec": {
      "name": "python3",
      "display_name": "Python 3"
    },
    "accelerator": "GPU"
  },
  "cells": [
    {
      "cell_type": "markdown",
      "metadata": {
        "id": "vv49axWeylsB"
      },
      "source": [
        "This notebook is freely available for redistribution under the [GPL-3.0 license](https://choosealicense.com/licenses/gpl-3.0/).\n",
        "\n",
        "Author: 蘇嘉冠"
      ]
    },
    {
      "cell_type": "markdown",
      "metadata": {
        "id": "Na0_QjevL_F5"
      },
      "source": [
        "# Convolutional Neural Networks 與影像分類\n",
        "\n",
        "請記得先複製一份在你自己的 Google 帳號底下：\n",
        "`檔案` -> `在雲端硬碟中儲存副本`\n",
        "\n",
        "也請記得改變 colab 設定：\n",
        "1. `工具` -> `設定` -> `編輯器` -> 將 `縮排寬度` 改為 `4`\n",
        "2. `編輯` -> `筆記本設定` -> 將 `硬體加速器` 改為 `GPU`"
      ]
    },
    {
      "cell_type": "markdown",
      "metadata": {
        "id": "rxVfmTuzLmyp"
      },
      "source": [
        "## 展示題：紅貴賓？炸雞？\n",
        "\n",
        "根據某專業機構的民調，紅貴賓與炸雞是最容易讓人們搞混的東西。為了避免不小心將紅貴賓吃下肚，我們將用 CNN 來訓練一個影像分類器，分辨照片是紅貴賓（`dog`）還是炸雞（`chicken`）！\n",
        "\n",
        "![](https://user-images.githubusercontent.com/8934290/57471983-68a86400-725a-11e9-8717-7ae5892aa809.png)\n",
        "\n",
        "（[原始資料集與圖片來源](https://github.com/buchananwp/LabradoodleOrFriedChicken)）"
      ]
    },
    {
      "cell_type": "code",
      "metadata": {
        "id": "c6tUTprCWdhH"
      },
      "source": [
        "!pip install numpy matplotlib torch torchvision"
      ],
      "execution_count": null,
      "outputs": []
    },
    {
      "cell_type": "code",
      "metadata": {
        "id": "9QJNDLoJWj6L"
      },
      "source": [
        "import matplotlib.pyplot as plt\n",
        "import numpy as np\n",
        "import torch"
      ],
      "execution_count": null,
      "outputs": []
    },
    {
      "cell_type": "markdown",
      "metadata": {
        "id": "1BP8KlHlYnC8"
      },
      "source": [
        "### Data Preprocessing"
      ]
    },
    {
      "cell_type": "markdown",
      "metadata": {
        "id": "TC--vWtDn867"
      },
      "source": [
        "我們先將資料集的壓縮檔下載到 colab server 的硬碟，並且解壓縮到資料夾 `dog-or-chicken`"
      ]
    },
    {
      "cell_type": "code",
      "metadata": {
        "id": "KVPmdnJ6miY5"
      },
      "source": [
        "! wget https://github.com/SuJiaKuan/fgu_ai_course/raw/main/datasets/dog-or-chicken.zip -O dog-or-chicken.zip && unzip -qo dog-or-chicken.zip"
      ],
      "execution_count": null,
      "outputs": []
    },
    {
      "cell_type": "markdown",
      "metadata": {
        "id": "bqNIeBuToYSu"
      },
      "source": [
        "`dog-or-chicken` 這個資料夾包含 training data 的子資料夾（`dog-or-chicken/train`）與 testing data 的子資料夾（`dog-or-chicken/test`），這兩個子資料夾下面又分別有兩種 label 的孫資料夾（`dog-or-chicken/XXX/chicken` 以及 `dog-or-chicken/XXX/dog`），每個孫資料有該 label 的圖片檔案。\n",
        "\n",
        "資料夾的階層關係如下：\n",
        "```\n",
        "dog-or-chicken\n",
        "├── test\n",
        "│   ├── chicken\n",
        "│   └── dog\n",
        "└── train\n",
        "    ├── chicken\n",
        "    └── dog\n",
        "```"
      ]
    },
    {
      "cell_type": "code",
      "metadata": {
        "id": "Bo57gGY4m3IM"
      },
      "source": [
        "!ls dog-or-chicken/train/dog"
      ],
      "execution_count": null,
      "outputs": []
    },
    {
      "cell_type": "markdown",
      "metadata": {
        "id": "kV49IdIY-Cra"
      },
      "source": [
        "接下來示範如何用 PyTorch 讀取我們自己的資料集。\n",
        "\n",
        "整體作法跟上次的練習很像，唯一的差別為這次是用 [torchvision.datasets.ImageFolder](https://pytorch.org/vision/stable/datasets.html#imagefolder) 讓程式去讀取硬碟資料夾的圖片，並且根據資料夾名稱來分 label（`chicken` 或 `dog`）。\n",
        "\n",
        "另外，除了要指定將資料轉成 Tensor 型別之外，因為每張資料集的每張圖片大小不一樣，但 CNN 的 input size 通常是固定的，因此這裡要統一將所有圖片轉成同個 size（244 x 224）。"
      ]
    },
    {
      "cell_type": "code",
      "metadata": {
        "id": "bjqGXh8CVFuW"
      },
      "source": [
        "import torchvision.transforms as transforms\n",
        "from torchvision import datasets\n",
        "\n",
        "# Batch size: how many samples per batch to load.\n",
        "batch_size = 16\n",
        "\n",
        "# Image size: input image size to feed into the CNN.\n",
        "image_size = (224, 224)\n",
        "\n",
        "# Convert data to torch Tensor.\n",
        "transform = transforms.Compose([\n",
        "    transforms.Resize(image_size),\n",
        "    transforms.ToTensor(),\n",
        "])\n",
        "\n",
        "\n",
        "# Load the training and testing data from disk.\n",
        "train_data = datasets.ImageFolder(\n",
        "    \"dog-or-chicken/train\",\n",
        "    transform=transform,\n",
        ")\n",
        "test_data = datasets.ImageFolder(\n",
        "    \"dog-or-chicken/test\",\n",
        "    transform=transform,\n",
        ")\n",
        "\n",
        "# Create loaders for training and testing data.\n",
        "train_loader = torch.utils.data.DataLoader(\n",
        "    train_data,\n",
        "    shuffle=True,\n",
        "    batch_size=batch_size,\n",
        ")\n",
        "test_loader = torch.utils.data.DataLoader(\n",
        "    test_data,\n",
        "    shuffle=True,\n",
        "    batch_size=batch_size,\n",
        ")"
      ],
      "execution_count": null,
      "outputs": []
    },
    {
      "cell_type": "markdown",
      "metadata": {
        "id": "eufcPqfAfQ7k"
      },
      "source": [
        "我們可以看一下 `DataLoader` 物件的 label 是否如我們預期。另外，也可以抓一把資料來看看狀況。\n",
        "\n",
        "在這裡可以看到圖片的 shape 為 `[16, 3, 224, 224]`，再複習一次，這種格式稱之為 `NCHW`，分別代表的意義如下：\n",
        "- `N`：batch size 大小\n",
        "- `C`：圖片的 channel 數量，灰階圖為 1，彩色圖通常為 3\n",
        "- `H`：圖片的高度（height）\n",
        "- `W`：圖片的寬度（width）\n"
      ]
    },
    {
      "cell_type": "code",
      "metadata": {
        "id": "kzGX6aXqeOda"
      },
      "source": [
        "# Show the data labels.\n",
        "print(\"Labels: {}\".format(train_data.classes))\n",
        "\n",
        "# Obtain one batch of training images.\n",
        "images, labels = iter(train_loader).next()\n",
        "\n",
        "print(\"Images shape: {}\".format(images.shape))\n",
        "print(\"Labels shape: {}\".format(labels.shape))"
      ],
      "execution_count": null,
      "outputs": []
    },
    {
      "cell_type": "markdown",
      "metadata": {
        "id": "CvYz59tmdt4S"
      },
      "source": [
        "### Data Visualization"
      ]
    },
    {
      "cell_type": "markdown",
      "metadata": {
        "id": "cRs9sgu4lxA1"
      },
      "source": [
        "我們從訓練資料秀幾張圖片來看看！"
      ]
    },
    {
      "cell_type": "code",
      "metadata": {
        "id": "Ood7XIg2ViHT"
      },
      "source": [
        "# Obtain one batch of training images.\n",
        "images, labels = iter(train_loader).next()\n",
        "images = images.numpy()\n",
        "\n",
        "# Plot the images in the batch, along with the corresponding labels.\n",
        "fig = plt.figure(figsize=(25, 4))\n",
        "for idx in np.arange(batch_size):\n",
        "    ax = fig.add_subplot(2, batch_size / 2, idx + 1, xticks=[], yticks=[])\n",
        "    # To show the image, we need to convert the format from CHW to HWC.\n",
        "    ax.imshow(images[idx].transpose((1, 2, 0)))\n",
        "    # Print out the correct label for each image\n",
        "    # .item() gets the value contained in a Tensor\n",
        "    ax.set_title(str(train_data.classes[labels[idx].item()]))\n",
        "\n",
        "    fig.show()"
      ],
      "execution_count": null,
      "outputs": []
    },
    {
      "cell_type": "markdown",
      "metadata": {
        "id": "ZCJos8QWl9EH"
      },
      "source": [
        "### Training"
      ]
    },
    {
      "cell_type": "markdown",
      "metadata": {
        "id": "GUVVaSomYx80"
      },
      "source": [
        "開始訓練之前，我們要先定義 CNN 架構。\n",
        "\n",
        "這裡我們直接使用 [torchvision.models](https://pytorch.org/vision/stable/models.html) 所提供的 ResNet-18，並且將最後一層的 Fully-Connected Layer 從原本 output label 數量 1,000 改成 2。\n",
        "\n",
        "一般來說，我們會直接使用已經在 ImageNet 下預訓練好的模型，不過為了讓你比較有沒有預訓練的差異，因此這裡先使用沒有預訓練的，後面的練習題會再請你修改成有預訓練的版本。"
      ]
    },
    {
      "cell_type": "code",
      "metadata": {
        "id": "QJiZ17lzW4qr"
      },
      "source": [
        "from torchvision import models\n",
        "\n",
        "# Get the pre-trained ResNet-18 model.\n",
        "model = models.resnet18()\n",
        "# Replace the last fully-connected layer to our custom layer.\n",
        "model.fc = torch.nn.Linear(model.fc.in_features, 2)\n",
        "# Move model from CPU to GPU.\n",
        "model = model.cuda()\n",
        "\n",
        "print(model)"
      ],
      "execution_count": null,
      "outputs": []
    },
    {
      "cell_type": "markdown",
      "metadata": {
        "id": "Z20B5Ot8cbGv"
      },
      "source": [
        "我們也要指定要用到的 loss function 以及優化器（更新權重的方法），分別使用 Cross Entropy 以及 Adam。"
      ]
    },
    {
      "cell_type": "code",
      "metadata": {
        "id": "degmsiXtW7dH"
      },
      "source": [
        "# Specify loss function.\n",
        "criterion = torch.nn.CrossEntropyLoss()\n",
        "\n",
        "# Specify optimizer.\n",
        "optimizer = torch.optim.Adam(model.parameters(), lr=0.001)"
      ],
      "execution_count": null,
      "outputs": []
    },
    {
      "cell_type": "markdown",
      "metadata": {
        "id": "2vFK8U9egGi7"
      },
      "source": [
        "接下來正式做訓練的流程，基本上流程與訓練 MLP 幾乎一樣。"
      ]
    },
    {
      "cell_type": "code",
      "metadata": {
        "id": "-fh3TTppW-57"
      },
      "source": [
        "# Number of epochs to train the model.\n",
        "n_epochs = 10\n",
        "\n",
        "# Turn on training mode.\n",
        "model.train()\n",
        "\n",
        "for epoch in range(n_epochs):\n",
        "    # Monitor training loss.\n",
        "    train_loss = 0.0\n",
        "    \n",
        "    # Train the model.\n",
        "    for data, target in train_loader:\n",
        "        # clear the gradients of all optimized variables\n",
        "        optimizer.zero_grad()\n",
        "        # Move data from CPU to GPU.\n",
        "        data = data.cuda()\n",
        "        target = target.cuda()\n",
        "        # Forward pass:\n",
        "        # Compute predicted outputs by passing inputs to the model.\n",
        "        output = model(data)\n",
        "        # Calculate the loss.\n",
        "        loss = criterion(output, target)\n",
        "        # Backward pass:\n",
        "        # Compute gradient of the loss with respect to model parameters.\n",
        "        loss.backward()\n",
        "        # Perform a single optimization step (parameter update).\n",
        "        optimizer.step()\n",
        "        # Update running training loss.\n",
        "        train_loss += loss.item() * data.size(0)\n",
        "        \n",
        "    # Calculate average loss over an epoch.\n",
        "    train_loss = train_loss / len(train_loader.dataset)\n",
        "\n",
        "    print('Epoch: {} \\tTraining Loss: {}'.format(\n",
        "        epoch + 1, \n",
        "        train_loss\n",
        "    ))"
      ],
      "execution_count": null,
      "outputs": []
    },
    {
      "cell_type": "markdown",
      "metadata": {
        "id": "waa-aK37ghYj"
      },
      "source": [
        "### Evaluation"
      ]
    },
    {
      "cell_type": "markdown",
      "metadata": {
        "id": "r1oPC9H8iRjH"
      },
      "source": [
        "訓練完成後，我們可以用模型來做 inference。這裡示範從 testing data 抓一把資料，餵給模型來做預測。要注意的是由於我們定義的模型並沒有包含 Softmax，所以在 inference 的時候我們手動加上去，這樣預測的結果就會是每個 label 的機率，我們就可以將機率做大的 label 作為預測的 label。"
      ]
    },
    {
      "cell_type": "code",
      "metadata": {
        "id": "RVQEQV_jXXH6"
      },
      "source": [
        "import torch.nn.functional as F\n",
        "\n",
        "# Turn off training mode (i.e., turn on evaluation mode).\n",
        "model.eval()\n",
        "\n",
        "# Obtain one batch of testing images.\n",
        "images, labels = iter(test_loader).next()\n",
        "\n",
        "# Get sample outputs.\n",
        "output = model(images.cuda())\n",
        "output = F.softmax(output)\n",
        "print(output.shape)\n",
        "\n",
        "# Convert output probabilities to predicted class.\n",
        "_, preds = torch.max(output, 1)\n",
        "\n",
        "# Prepare images for display.\n",
        "images = images.numpy()\n",
        "\n",
        "# Plot the images in the batch, along with predicted and true labels.\n",
        "fig = plt.figure(figsize=(25, 4))\n",
        "for idx in np.arange(batch_size):\n",
        "    ax = fig.add_subplot(2, batch_size / 2, idx + 1, xticks=[], yticks=[])\n",
        "    ax.imshow(images[idx].transpose((1, 2, 0)))\n",
        "\n",
        "    title = \"{} ({})\".format(\n",
        "        preds[idx].item(),\n",
        "        train_data.classes[labels[idx].item()],\n",
        "    )\n",
        "    color = \"green\" if preds[idx] == labels[idx] else \"red\"\n",
        "    ax.set_title(title, color=color)"
      ],
      "execution_count": null,
      "outputs": []
    },
    {
      "cell_type": "markdown",
      "metadata": {
        "id": "JCOAfGuqmWj0"
      },
      "source": [
        "接下來我們可以用全部的 testing data 來算準確率，分別計算各個 label 的準確率，以及全部之下的準確率。"
      ]
    },
    {
      "cell_type": "code",
      "metadata": {
        "id": "KG2a18g6XJLE"
      },
      "source": [
        "class_correct = [0] * 2\n",
        "class_total = [0] * 2\n",
        "\n",
        "for data, target in test_loader:\n",
        "    # Get data outputs.\n",
        "    data = data.cuda()\n",
        "    target = target.cuda()\n",
        "    output = model(data)\n",
        "    output = F.softmax(output)\n",
        "    # Convert output probabilities to predicted class.\n",
        "    _, pred = torch.max(output, 1)\n",
        "    # Compare predictions to true label.\n",
        "    correct = np.squeeze(pred.eq(target.data.view_as(pred)))\n",
        "    # calculate test accuracy for each object class\n",
        "    for i in range(target.shape[0]):\n",
        "        label = target.data[i]\n",
        "        class_correct[label] += correct[i].item()\n",
        "        class_total[label] += 1\n",
        "\n",
        "for label in range(2):\n",
        "    print(\"Test Accuracy of {}: {}% ({} / {})\".format(\n",
        "        label,\n",
        "        100 * class_correct[label] / class_total[label],\n",
        "        int(np.sum(class_correct[label])),\n",
        "        int(np.sum(class_total[label]))),\n",
        "    )\n",
        "print(\"Test Accuracy (Overall): {}% ({} / {})\".format(\n",
        "    100 * np.sum(class_correct) / np.sum(class_total),\n",
        "    int(np.sum(class_correct)),\n",
        "    int(np.sum(class_total))),\n",
        ")"
      ],
      "execution_count": null,
      "outputs": []
    },
    {
      "cell_type": "markdown",
      "metadata": {
        "id": "Q0U9ayyMm_Xp"
      },
      "source": [
        "## 練習題\n",
        "\n",
        "目前我用的 ResNet-18，是沒有經過任何預訓練的，因此準確率只能說是差強人意。現在請你將模型改成是有先經過預訓練的版本，並且再重新訓練一次看看，準確率應該至少能提升到 96%。\n",
        "\n",
        "提示：\n",
        "1. 請參考 [torchvision.models](https://pytorch.org/vision/stable/models.html) 修改成有預訓練（pretrained）的版本\n",
        "2. 請修改讀取資料的程式碼區塊，在 `transform` 的 `ToTensor()` 後面再加上一個 [torch.transforms.Normalize](https://pytorch.org/vision/stable/transforms.html#torchvision.transforms.Normalize)，其中 `mean` 填 `[0.485, 0.456, 0.406]`，\n",
        "`std` 填 `[0.229, 0.224, 0.225]`（這些數值是從 ImageNet 得來的）。\n",
        "2. 請記得重新按 `指定 loss function 以及優化器` 這格的程式碼區塊，因為 Adam 是會根據之前訓練的結果來更改一些內容。重新執行這個區塊可以讓 Adam 重新初始化。"
      ]
    }
  ]
}