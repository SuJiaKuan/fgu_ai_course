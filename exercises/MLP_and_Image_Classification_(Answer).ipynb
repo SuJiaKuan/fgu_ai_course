{
  "nbformat": 4,
  "nbformat_minor": 0,
  "metadata": {
    "colab": {
      "name": "MLP and Image Classification (Answer).ipynb",
      "provenance": [],
      "collapsed_sections": []
    },
    "kernelspec": {
      "name": "python3",
      "display_name": "Python 3"
    },
    "accelerator": "GPU"
  },
  "cells": [
    {
      "cell_type": "markdown",
      "metadata": {
        "id": "vv49axWeylsB"
      },
      "source": [
        "This notebook is freely available for redistribution under the [GPL-3.0 license](https://choosealicense.com/licenses/gpl-3.0/).\n",
        "\n",
        "Author: 蘇嘉冠\n",
        "\n",
        "Contributors: 鄭宇伸, 喬彥翔"
      ]
    },
    {
      "cell_type": "markdown",
      "metadata": {
        "id": "Na0_QjevL_F5"
      },
      "source": [
        "# Multilayer Perceptron 與影像分類（參考答案）\n",
        "\n",
        "請記得先複製一份在你自己的 Google 帳號底下：\n",
        "`檔案` -> `在雲端硬碟中儲存副本`\n",
        "\n",
        "也請記得改變 colab 設定：\n",
        "1. `工具` -> `設定` -> `編輯器` -> 將 `縮排寬度` 改為 `4`\n",
        "2. `編輯` -> `筆記本設定` -> 將 `硬體加速器` 改為 `GPU`"
      ]
    },
    {
      "cell_type": "markdown",
      "metadata": {
        "id": "rxVfmTuzLmyp"
      },
      "source": [
        "## 練習題\n",
        "\n",
        "MNIST 為深度學習最常用來入門的資料集，可以說是深度學習的 Hello World。這個資料集主要是由 Yann LeCun 在 1998 所蒐集的（Yann LeCun 為深度學習最重要的貢獻者，也是 Convolutional Neural Networks 的發明人），蒐集數字 0 ~ 9 的手寫數字圖片（分別對應的 label 為 `0` ~ `9`），每張圖片大小為 28 x 28。\n",
        "\n",
        "這次練習，我們將用 PyTorch 來建構一個最簡單的 MLP，並且用 MNIST 做訓練，來預測手寫圖片為何種數字。"
      ]
    },
    {
      "cell_type": "code",
      "metadata": {
        "id": "c6tUTprCWdhH"
      },
      "source": [
        "!pip install numpy matplotlib torch torchvision"
      ],
      "execution_count": null,
      "outputs": []
    },
    {
      "cell_type": "code",
      "metadata": {
        "id": "9QJNDLoJWj6L"
      },
      "source": [
        "import matplotlib.pyplot as plt\n",
        "import numpy as np\n",
        "import torch"
      ],
      "execution_count": null,
      "outputs": []
    },
    {
      "cell_type": "markdown",
      "metadata": {
        "id": "1BP8KlHlYnC8"
      },
      "source": [
        "### Data Preprocessing"
      ]
    },
    {
      "cell_type": "markdown",
      "metadata": {
        "id": "JUGP8UDXeKFw"
      },
      "source": [
        "我們要準備 MNIST 的資料，準備的方式通常有兩種：\n",
        "1. 自己下載 MNIST 資料到 colab 的電腦中，再做讀取\n",
        "2. 直接使用 [torchvision.datasets](https://pytorch.org/vision/stable/datasets.html) 下載 MNIST 資料，再做讀取\n",
        "\n",
        "這次練習使用方法 2：\n",
        "- 透過 `torchvision.datasets` 下載 MNIST 後，並且指定將資料轉成 [Tensor](https://pytorch.org/tutorials/beginner/blitz/tensor_tutorial.html#sphx-glr-beginner-blitz-tensor-tutorial-py) 型別\n",
        "- 創建 [DataLoader](https://pytorch.org/tutorials/beginner/basics/data_tutorial.html) 的物件，這個物件負責實際的讀取資料，而且能指定 batch size 的大小（也就是一次要讀幾張圖片）"
      ]
    },
    {
      "cell_type": "code",
      "metadata": {
        "id": "bjqGXh8CVFuW"
      },
      "source": [
        "import torchvision.transforms as transforms\n",
        "from torchvision import datasets\n",
        "\n",
        "# Batch size: how many samples per batch to load.\n",
        "batch_size = 16\n",
        "\n",
        "# Convert data to torch Tensor.\n",
        "transform = transforms.ToTensor()\n",
        "\n",
        "# Download the training and testing data for MNIST.\n",
        "train_data = datasets.MNIST(\n",
        "    \"mnist_data\",\n",
        "    train=True,\n",
        "    download=True,\n",
        "    transform=transform,\n",
        ")\n",
        "test_data = datasets.MNIST(\n",
        "    \"mnist_data\",\n",
        "    train=False,\n",
        "    download=True,\n",
        "    transform=transform,\n",
        ")\n",
        "\n",
        "# Create loaders for training and testing data.\n",
        "train_loader = torch.utils.data.DataLoader(\n",
        "    train_data,\n",
        "    shuffle=True,\n",
        "    batch_size=batch_size,\n",
        ")\n",
        "test_loader = torch.utils.data.DataLoader(\n",
        "    test_data,\n",
        "    shuffle=True,\n",
        "    batch_size=batch_size,\n",
        ")"
      ],
      "execution_count": null,
      "outputs": []
    },
    {
      "cell_type": "markdown",
      "metadata": {
        "id": "eufcPqfAfQ7k"
      },
      "source": [
        "創建好 `DataLoader` 物件後，我們可以從中抓一把資料，一把資料的資料數量就是 batch size 的大小，每筆包含圖片與相對應的 label，圖片與 label 的型別都是 `Tensor`。由於我們在創建 `DataLoader` 物件時有指定 `shuffle=True`，所以每次抓的資料都會不一樣。\n",
        "\n",
        "可以看到圖片的 shape 為 `[16, 1, 28, 28]`，這種格式稱之為 `NCHW`，分別代表的意義如下：\n",
        "- `N`：batch size 大小\n",
        "- `C`：圖片的 channel 數量，灰階圖為 1，彩色圖通常為 3\n",
        "- `H`：圖片的高度（height）\n",
        "- `W`：圖片的寬度（width）\n",
        "\n",
        "另外，`Tensor` 型別可以與 `numpy.ndarray` 互相轉換型別。"
      ]
    },
    {
      "cell_type": "code",
      "metadata": {
        "id": "kzGX6aXqeOda"
      },
      "source": [
        "# Obtain one batch of training images.\n",
        "images, labels = iter(train_loader).next()\n",
        "\n",
        "print(\"Images shape: {}\".format(images.shape))\n",
        "print(\"Labels shape: {}\".format(labels.shape))\n",
        "print(\"Images: {}\".format(images))\n",
        "print(\"Labels: {}\".format(labels))\n",
        "\n",
        "# We can also transform from Tensor to numpy.ndarray\n",
        "images = images.numpy()\n",
        "print(images.shape)"
      ],
      "execution_count": null,
      "outputs": []
    },
    {
      "cell_type": "markdown",
      "metadata": {
        "id": "CvYz59tmdt4S"
      },
      "source": [
        "### Data Visualization"
      ]
    },
    {
      "cell_type": "markdown",
      "metadata": {
        "id": "cRs9sgu4lxA1"
      },
      "source": [
        "同樣的，我們可以將從 `DataLoader` 物件拿出來的資料做視覺化。"
      ]
    },
    {
      "cell_type": "code",
      "metadata": {
        "id": "Ood7XIg2ViHT"
      },
      "source": [
        "# Obtain one batch of training images.\n",
        "images, labels = iter(train_loader).next()\n",
        "images = images.numpy()\n",
        "\n",
        "# Plot the images in the batch, along with the corresponding labels.\n",
        "fig = plt.figure(figsize=(25, 4))\n",
        "for idx in np.arange(batch_size):\n",
        "    ax = fig.add_subplot(2, batch_size / 2, idx + 1, xticks=[], yticks=[])\n",
        "    ax.imshow(np.squeeze(images[idx]), cmap='gray')\n",
        "    # Print out the correct label for each image\n",
        "    # .item() gets the value contained in a Tensor\n",
        "    ax.set_title(str(labels[idx].item()))\n",
        "\n",
        "    fig.show()"
      ],
      "execution_count": null,
      "outputs": []
    },
    {
      "cell_type": "markdown",
      "metadata": {
        "id": "ZCJos8QWl9EH"
      },
      "source": [
        "### Training"
      ]
    },
    {
      "cell_type": "markdown",
      "metadata": {
        "id": "GUVVaSomYx80"
      },
      "source": [
        "開始訓練之前，我們要先定義 Neural Network 的架構。[torch.nn](https://pytorch.org/docs/stable/nn.html) 包含許多深度學習的模組，例如我們這裡會用到的 `nn.Linear`（Fully-Connected layer）、`nn.Sigmoid`，透過這些模組的串連來組成我們想要的模型（下圖）。\n",
        "\n",
        "要注意的是，由於我們等等會使用的 Cross Entropy 來當作 loss function，而 PyTorch 的 Cross Entropy 功能本身包含 Softmax，所以不會在這裡用到，而是等到訓練後的 inference 再加上去。\n",
        "\n",
        "定義模型架構之後，因為我們想要用 GPU 加速，因此使用 `model.cuda()` 將模型的相關資料送到 GPU。如果只想在 CPU 上執行，可以將此行註解掉。\n",
        "\n",
        "![](https://i.imgur.com/8n9LzOD.png)"
      ]
    },
    {
      "cell_type": "code",
      "metadata": {
        "id": "QJiZ17lzW4qr"
      },
      "source": [
        "import torch.nn as nn\n",
        "\n",
        "# Construct the neural network.\n",
        "model = nn.Sequential(\n",
        "    nn.Linear(28 * 28, 512),\n",
        "    nn.ReLU(),\n",
        "    nn.Linear(512, 64),\n",
        "    nn.ReLU(),\n",
        "    nn.Linear(64, 10),\n",
        ")\n",
        "# Move model from CPU to GPU.\n",
        "model = model.cuda()\n",
        "print(model)"
      ],
      "execution_count": null,
      "outputs": []
    },
    {
      "cell_type": "markdown",
      "metadata": {
        "id": "Z20B5Ot8cbGv"
      },
      "source": [
        "我們也要指定要用到的 loss function 以及優化器（更新權重的方法），分別使用 Cross Entropy 以及 SGD。"
      ]
    },
    {
      "cell_type": "code",
      "metadata": {
        "id": "degmsiXtW7dH"
      },
      "source": [
        "# Specify loss function.\n",
        "criterion = nn.CrossEntropyLoss()\n",
        "\n",
        "# Specify optimizer.\n",
        "optimizer = torch.optim.SGD(model.parameters(), lr=0.01)"
      ],
      "execution_count": null,
      "outputs": []
    },
    {
      "cell_type": "markdown",
      "metadata": {
        "id": "2vFK8U9egGi7"
      },
      "source": [
        "接下來正式做訓練的流程，基本上流程與 Lecture 4 投影片講述的一樣。"
      ]
    },
    {
      "cell_type": "code",
      "metadata": {
        "id": "-fh3TTppW-57"
      },
      "source": [
        "# Number of epochs to train the model.\n",
        "n_epochs = 30\n",
        "\n",
        "# Turn on training mode.\n",
        "model.train()\n",
        "\n",
        "for epoch in range(n_epochs):\n",
        "    # Monitor training loss.\n",
        "    train_loss = 0.0\n",
        "    \n",
        "    # Train the model.\n",
        "    for data, target in train_loader:\n",
        "        # clear the gradients of all optimized variables\n",
        "        optimizer.zero_grad()\n",
        "        # Reshape data from (16, 1, 28, 28) into (16, 28 * 28).\n",
        "        data = data.view(-1, 28 * 28)\n",
        "        # Move data from CPU to GPU.\n",
        "        data = data.cuda()\n",
        "        target = target.cuda()\n",
        "        # Forward pass:\n",
        "        # Compute predicted outputs by passing inputs to the model.\n",
        "        output = model(data)\n",
        "        # Calculate the loss.\n",
        "        loss = criterion(output, target)\n",
        "        # Backward pass:\n",
        "        # Compute gradient of the loss with respect to model parameters.\n",
        "        loss.backward()\n",
        "        # Perform a single optimization step (parameter update).\n",
        "        optimizer.step()\n",
        "        # Update running training loss.\n",
        "        train_loss += loss.item() * data.size(0)\n",
        "        \n",
        "    # Calculate average loss over an epoch.\n",
        "    train_loss = train_loss / len(train_loader.dataset)\n",
        "\n",
        "    print('Epoch: {} \\tTraining Loss: {}'.format(\n",
        "        epoch + 1, \n",
        "        train_loss\n",
        "    ))"
      ],
      "execution_count": null,
      "outputs": []
    },
    {
      "cell_type": "markdown",
      "metadata": {
        "id": "waa-aK37ghYj"
      },
      "source": [
        "### Evaluation"
      ]
    },
    {
      "cell_type": "markdown",
      "metadata": {
        "id": "r1oPC9H8iRjH"
      },
      "source": [
        "訓練完成後，我們可以用模型來做 inference。這裡示範從 testing data 抓一把資料，餵給模型來做預測。要注意的是由於我們定義的模型並沒有包含 Softmax，所以在 inference 的時候我們手動加上去，這樣預測的結果就會是每個 label 的機率，我們就可以將機率做大的 label 作為預測的 label。"
      ]
    },
    {
      "cell_type": "code",
      "metadata": {
        "id": "RVQEQV_jXXH6"
      },
      "source": [
        "import torch.nn.functional as F\n",
        "\n",
        "# Turn off training mode (i.e., turn on evaluation mode).\n",
        "model.eval()\n",
        "\n",
        "# Obtain one batch of testing images.\n",
        "images, labels = iter(test_loader).next()\n",
        "\n",
        "# Get sample outputs.\n",
        "input_images = images.view(-1, 28 * 28)\n",
        "input_images = input_images.cuda()\n",
        "output = model(input_images)\n",
        "output = F.softmax(output)\n",
        "print(output.shape)\n",
        "\n",
        "# Convert output probabilities to predicted class.\n",
        "_, preds = torch.max(output, 1)\n",
        "\n",
        "# Prepare images for display.\n",
        "images = images.numpy()\n",
        "\n",
        "# Plot the images in the batch, along with predicted and true labels.\n",
        "fig = plt.figure(figsize=(25, 4))\n",
        "for idx in np.arange(batch_size):\n",
        "    ax = fig.add_subplot(2, batch_size / 2, idx + 1, xticks=[], yticks=[])\n",
        "    ax.imshow(np.squeeze(images[idx]), cmap='gray')\n",
        "\n",
        "    title = \"{} ({})\".format(preds[idx].item(), labels[idx].item())\n",
        "    color = \"green\" if preds[idx] == labels[idx] else \"red\"\n",
        "    ax.set_title(title, color=color)"
      ],
      "execution_count": null,
      "outputs": []
    },
    {
      "cell_type": "markdown",
      "metadata": {
        "id": "JCOAfGuqmWj0"
      },
      "source": [
        "接下來我們可以用全部的 testing data 來算準確率，分別計算各個 label 的準確率，以及全部之下的準確率。"
      ]
    },
    {
      "cell_type": "code",
      "metadata": {
        "id": "KG2a18g6XJLE"
      },
      "source": [
        "class_correct = [0] * 10\n",
        "class_total = [0] * 10\n",
        "\n",
        "for data, target in test_loader:\n",
        "    # Get data outputs.\n",
        "    data = data.view(-1, 28 * 28)\n",
        "    data = data.cuda()\n",
        "    target = target.cuda()\n",
        "    output = model(data)\n",
        "    output = F.softmax(output)\n",
        "    # Convert output probabilities to predicted class.\n",
        "    _, pred = torch.max(output, 1)\n",
        "    # Compare predictions to true label.\n",
        "    correct = np.squeeze(pred.eq(target.data.view_as(pred)))\n",
        "    # calculate test accuracy for each object class\n",
        "    for i in range(batch_size):\n",
        "        label = target.data[i]\n",
        "        class_correct[label] += correct[i].item()\n",
        "        class_total[label] += 1\n",
        "\n",
        "for label in range(10):\n",
        "    print(\"Test Accuracy of {}: {}% ({} / {})\".format(\n",
        "        label,\n",
        "        100 * class_correct[label] / class_total[label],\n",
        "        int(np.sum(class_correct[label])),\n",
        "        int(np.sum(class_total[label]))),\n",
        "    )\n",
        "print(\"Test Accuracy (Overall): {}% ({} / {})\".format(\n",
        "    100 * np.sum(class_correct) / np.sum(class_total),\n",
        "    int(np.sum(class_correct)),\n",
        "    int(np.sum(class_total))),\n",
        ")"
      ],
      "execution_count": null,
      "outputs": []
    }
  ]
}