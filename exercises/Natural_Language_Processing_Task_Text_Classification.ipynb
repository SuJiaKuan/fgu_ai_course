{
  "nbformat": 4,
  "nbformat_minor": 0,
  "metadata": {
    "colab": {
      "name": "Natural Language Processing Task: Text Classification.ipynb",
      "provenance": [],
      "collapsed_sections": []
    },
    "kernelspec": {
      "name": "python3",
      "display_name": "Python 3"
    },
    "accelerator": "GPU"
  },
  "cells": [
    {
      "cell_type": "markdown",
      "metadata": {
        "id": "vv49axWeylsB"
      },
      "source": [
        "This notebook is freely available for redistribution under the [GPL-3.0 license](https://choosealicense.com/licenses/gpl-3.0/).\n",
        "\n",
        "Author: 蘇嘉冠"
      ]
    },
    {
      "cell_type": "markdown",
      "metadata": {
        "id": "Na0_QjevL_F5"
      },
      "source": [
        "# 自然語言處理任務：文本分類\n",
        "\n",
        "請記得先複製一份在你自己的 Google 帳號底下：\n",
        "`檔案` -> `在雲端硬碟中儲存副本`\n",
        "\n",
        "也請記得改變 colab 設定：\n",
        "1. `工具` -> `設定` -> `編輯器` -> 將 `縮排寬度` 改為 `4`\n",
        "2. `編輯` -> `筆記本設定` -> 將 `硬體加速器` 改為 `GPU`"
      ]
    },
    {
      "cell_type": "markdown",
      "metadata": {
        "id": "rxVfmTuzLmyp"
      },
      "source": [
        "## 練習題：飯店地雷偵測儀\n",
        "\n",
        "在旅遊找飯店或旅館，大家時常會透過訂房網站預訂。在預定前，除了看飯店的平均分數之外，許多人也會習慣看過往旅客對該飯店的評論。不過評論通常會非常多，因此要用人力看完並且一一分析是非常困難的。在這個練習裡，我們試著去訓練一個文本分類的模型，分辨每則評論是正面（positive）或是負面（negative）的，並且計算該飯店所有評論的正面及負面的比例為多少，讓我們能快速判斷是否為地雷！\n",
        "\n",
        "訓練資料來自[這裡](https://github.com/Chunshan-Theta/NLPLab/tree/master/class_model/sentiment/py3/zn)，總共從 booking.com 蒐集 341,658 則評論，我們擷取其中的 1,200 條，包含 1,000 條的訓練資料，以及 200 條的測試資料。\n",
        "\n",
        "![](https://i.imgur.com/FjUmObT.png)\n",
        "（[圖片來源](https://memes.tw/wtf/229944)）"
      ]
    },
    {
      "cell_type": "code",
      "metadata": {
        "id": "wbpvNhD7t9Zh"
      },
      "source": [
        "!pip install numpy pandas torch simpletransformers"
      ],
      "execution_count": null,
      "outputs": []
    },
    {
      "cell_type": "code",
      "metadata": {
        "id": "3mT3PsJau5B5"
      },
      "source": [
        "import numpy as np\n",
        "import pandas as pd\n",
        "from simpletransformers.classification import ClassificationModel"
      ],
      "execution_count": null,
      "outputs": []
    },
    {
      "cell_type": "markdown",
      "metadata": {
        "id": "QckcpDsHJ8n8"
      },
      "source": [
        "### 資料準備"
      ]
    },
    {
      "cell_type": "markdown",
      "metadata": {
        "id": "y41_2foqKDxU"
      },
      "source": [
        "首先我們先下載訓練資料（`sent_train.csv`）與測試資料（`sent_test.csv`）到 Colab Server 的硬碟裡。"
      ]
    },
    {
      "cell_type": "code",
      "metadata": {
        "id": "LiSyx2SL_8vc"
      },
      "source": [
        "!wget https://raw.githubusercontent.com/SuJiaKuan/fgu_ai_course/main/datasets/nlp_tw/hotel_sentimental/sent_train.csv -O sent_train.csv"
      ],
      "execution_count": null,
      "outputs": []
    },
    {
      "cell_type": "code",
      "metadata": {
        "id": "obh0h6Mi_4mn"
      },
      "source": [
        "!wget https://raw.githubusercontent.com/SuJiaKuan/fgu_ai_course/main/datasets/nlp_tw/hotel_sentimental/sent_test.csv -O sent_test.csv"
      ],
      "execution_count": null,
      "outputs": []
    },
    {
      "cell_type": "markdown",
      "metadata": {
        "id": "31bVjyFpKRR3"
      },
      "source": [
        "由於資料是 csv 檔，我們可以直接用 pandas 讀取。資料有兩個 column，分別是 `labels` 跟 `text`。每個 row 則代表一則評論，`text` 為評論的內容，`labels` 如果是 1 代表為正面（positive），0 則代表為負面。"
      ]
    },
    {
      "cell_type": "code",
      "metadata": {
        "id": "Jkqw74BB5h7S"
      },
      "source": [
        "train_df = pd.read_csv(\"sent_train.csv\")\n",
        "test_df = pd.read_csv(\"sent_test.csv\")"
      ],
      "execution_count": null,
      "outputs": []
    },
    {
      "cell_type": "code",
      "metadata": {
        "id": "klgSsWC05lJQ"
      },
      "source": [
        "print(train_df.head())\n",
        "print(test_df.head())"
      ],
      "execution_count": null,
      "outputs": []
    },
    {
      "cell_type": "markdown",
      "metadata": {
        "id": "8I97wm5lMhMA"
      },
      "source": [
        "這裡來查看一下資料的分佈狀況。"
      ]
    },
    {
      "cell_type": "code",
      "metadata": {
        "id": "woNvlttnLBSj"
      },
      "source": [
        "print(\"Distribution for training data:\")\n",
        "print(train_df[\"labels\"].value_counts())"
      ],
      "execution_count": null,
      "outputs": []
    },
    {
      "cell_type": "code",
      "metadata": {
        "id": "G-oIO92nMZUL"
      },
      "source": [
        "print(\"Distribution for testing data:\")\n",
        "print(test_df[\"labels\"].value_counts())"
      ],
      "execution_count": null,
      "outputs": []
    },
    {
      "cell_type": "markdown",
      "metadata": {
        "id": "ctgoi78JM1qW"
      },
      "source": [
        "### 模型訓練"
      ]
    },
    {
      "cell_type": "markdown",
      "metadata": {
        "id": "slcQDIVhM3j8"
      },
      "source": [
        "這裡我們要用 [Simple Transformers](https://github.com/ThilinaRajapakse/simpletransformers) 的 [text classification](https://simpletransformers.ai/docs/classification-specifics/) 來建立模型、訓練以及測試。\n",
        "\n",
        "模型的架構我們使用 BERT，是由 CKIP Lab 針對中文文本做過預訓練的，我們要用它來做下游任務的 fine-tuning。相關的參數請參考[這裡](https://simpletransformers.ai/docs/usage/#configuring-a-simple-transformers-model)。"
      ]
    },
    {
      "cell_type": "code",
      "metadata": {
        "id": "CA55mMqAvgg4"
      },
      "source": [
        "# Create a classification model based on the pre-trained BERT.\n",
        "model = ClassificationModel(\n",
        "    \"bert\",\n",
        "    \"ckiplab/bert-base-chinese\",\n",
        "    args={\n",
        "        \"learning_rate\": 0.0001,\n",
        "        \"num_train_epochs\": 2,\n",
        "        \"train_batch_size\": 8,\n",
        "        \"overwrite_output_dir\": True,\n",
        "    },\n",
        ")"
      ],
      "execution_count": null,
      "outputs": []
    },
    {
      "cell_type": "markdown",
      "metadata": {
        "id": "74o4ZDfBO0IN"
      },
      "source": [
        "訓練模型非常簡單，只要呼叫 `train_model()`，等待結果即可。"
      ]
    },
    {
      "cell_type": "code",
      "metadata": {
        "id": "nq_IbsITv_dG"
      },
      "source": [
        "# Train the model.\n",
        "model.train_model(train_df)"
      ],
      "execution_count": null,
      "outputs": []
    },
    {
      "cell_type": "markdown",
      "metadata": {
        "id": "ARDDd6AlPBfn"
      },
      "source": [
        "做 evaluation 也非常簡單，只要呼叫 `eval_model()` 就會把對測試資料相關的 evaluation metrics 等資訊計算出來，其中各種 metrics 的代表意義請參考[這篇文章](https://medium.com/ai%E5%8F%8D%E6%96%97%E5%9F%8E/evaluation-metrics-%E5%88%86%E9%A1%9E%E6%A8%A1%E5%9E%8B-ba17ad826599)。"
      ]
    },
    {
      "cell_type": "code",
      "metadata": {
        "id": "sN2_Ggq3wHyp"
      },
      "source": [
        "# Evaluate the model.\n",
        "result, model_outputs, wrong_predictions = model.eval_model(test_df)\n",
        "print(result)"
      ],
      "execution_count": null,
      "outputs": []
    },
    {
      "cell_type": "code",
      "metadata": {
        "id": "bEoz5F06PiwP"
      },
      "source": [
        "num_correct = (result[\"tp\"] + result[\"tn\"]) \n",
        "num_total = (result[\"tp\"] + result[\"tn\"] + result[\"fp\"] + result[\"fn\"])\n",
        "accuracy = num_correct / num_total\n",
        "\n",
        "print(\"Accuracy: {}\".format(accuracy))"
      ],
      "execution_count": null,
      "outputs": []
    },
    {
      "cell_type": "markdown",
      "metadata": {
        "id": "AUQ6WIaFQUa8"
      },
      "source": [
        "如果只是要單純的拿到預測結果，呼叫 `predict()` 即可。"
      ]
    },
    {
      "cell_type": "code",
      "metadata": {
        "id": "_bTTV8YGwKb-"
      },
      "source": [
        "# Make predictions with the model.\n",
        "predictions, raw_outputs = model.predict([\"被子不太透風有點悶，材質粗粗的😣😣😣\"])\n",
        "print(predictions)"
      ],
      "execution_count": null,
      "outputs": []
    },
    {
      "cell_type": "code",
      "metadata": {
        "id": "nS1qE2IaQmbB"
      },
      "source": [
        "predictions, raw_outputs = model.predict([\"喜歡他在商圈附近，地標明顯。\"])\n",
        "print(predictions)"
      ],
      "execution_count": null,
      "outputs": []
    },
    {
      "cell_type": "markdown",
      "metadata": {
        "id": "tY3JL5CjQvJr"
      },
      "source": [
        "### 偵測地雷"
      ]
    },
    {
      "cell_type": "markdown",
      "metadata": {
        "id": "Tp25vAf3Q1Lv"
      },
      "source": [
        "我們拿某家飯店真實的評論，擷取其中的 20 則，來看一下整體的評論如何，是否為地雷吧！"
      ]
    },
    {
      "cell_type": "code",
      "metadata": {
        "id": "INQaKIu1AY5Q"
      },
      "source": [
        "hotel_reviews = [\n",
        "    \"每個服務人員都超級熱心親切友善❤️\",\n",
        "    \"寵物友善旅店👍🏻👍🏻，乾淨舒適，推薦😊\",\n",
        "    \"床不舒適，枕頭背面還有別人的頭髮\",\n",
        "    \"床上有發現幾根頭髮， 冰箱沒有先插電所以一進房想冰東西會需等等唷！ 我們住的這間202，房間冷氣會發出奇怪的聲音，窗外有顆大樹，一早就被鳥啄窗戶叫醒（哈～） 廁所沒有插座這點比較不方便！ 旅棧的公共空間有點線香，味道實在太濃了，建議可增加通風讓口氣流通比較好唷！\",\n",
        "    \"走道通風較不良\",\n",
        "    \"地點方便, 早餐不錯, 已住第二次, 滿意\",\n",
        "    \"地點好 大路邊 離駁二與渡輪站都很近 而且還有提供免費腳踏車可借\",\n",
        "    \"好吃\",\n",
        "    \"枕頭可以用札實一點材質\",\n",
        "    \"早餐時段只有一人服務\",\n",
        "    \"早餐好吃，飲料很大杯，服務超讚，還能提供接駁，讓我們來得及演唱會，而且還有幫我們留車位，服務超好，而且超多重機，佈置很棒。\",\n",
        "    \"都很捧!\",\n",
        "    \"cp值高\",\n",
        "    \"浴室乾濕不分離\",\n",
        "    \"物美價廉，值得一住\",\n",
        "    \"早餐非常豐富好吃 房間設備蠻新的\",\n",
        "    \"早餐尚可\",\n",
        "    \"員工服務熱心，房間整潔\",\n",
        "    \"主人給予很多協助 早餐好吃 員工服務周到\",\n",
        "    \"要開車比較方便，離捷運站較遠，附近沒有超商\",\n",
        "]"
      ],
      "execution_count": null,
      "outputs": []
    },
    {
      "cell_type": "code",
      "metadata": {
        "id": "aML35DVGDylE"
      },
      "source": [
        "predictions, raw_outputs = model.predict(hotel_reviews)\n",
        "print(predictions)"
      ],
      "execution_count": null,
      "outputs": []
    },
    {
      "cell_type": "code",
      "metadata": {
        "id": "B7QfPvEeEMje"
      },
      "source": [
        "pos_count = np.count_nonzero(predictions == 1)\n",
        "neg_count = np.count_nonzero(predictions == 0)\n",
        "\n",
        "print(\"Positive Rate: {}\".format(pos_count / len(predictions)))\n",
        "print(\"Negative Rate: {}\".format(neg_count / len(predictions)))"
      ],
      "execution_count": null,
      "outputs": []
    },
    {
      "cell_type": "markdown",
      "metadata": {
        "id": "NIwVqVfV9cID"
      },
      "source": [
        "練習時間：\n",
        "\n",
        "我們想要改使用英文的電影評論資料：[Large Movie Review Dataset](https://ai.stanford.edu/~amaas/data/sentiment/) 來做訓練，跟飯店評論一樣，我們想要訓練一個模型來分類評論是正面（positive）或是負面（negative）的。請下載[訓練資料](https://raw.githubusercontent.com/SuJiaKuan/fgu_ai_course/main/datasets/nlp_en/movie_sentimental/sent_train.csv)以及[測試資料](https://raw.githubusercontent.com/SuJiaKuan/fgu_ai_course/main/datasets/nlp_en/movie_sentimental/sent_test.csv)，並且用 [bert-base-cased](https://huggingface.co/bert-base-cased) 作為預訓練模型。"
      ]
    }
  ]
}